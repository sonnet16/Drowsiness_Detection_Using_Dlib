{
 "cells": [
  {
   "cell_type": "code",
   "execution_count": 1,
   "id": "still-handbook",
   "metadata": {},
   "outputs": [],
   "source": [
    "import cv2\n",
    "\n",
    "vedio = cv2.VideoCapture(0)\n",
    "\n",
    "facedetect = cv2.CascadeClassifier(\"haarcascade_frontalface_default.xml\")\n",
    "\n",
    "while(True):\n",
    "    ret , frame = vedio.read()\n",
    "    faces = facedetect.detectMultiScale(frame,1.3, 5)\n",
    "    for x,y,w,h in faces:\n",
    "        cv2.rectangle(frame,(x,y),(x+w,y+h),(0,255,255), 3)\n",
    "    cv2.imshow(\"Sonnet\",frame)\n",
    "    k = cv2.waitKey(1)\n",
    "    if k==ord(\"q\"):\n",
    "        break\n",
    "vedio.release()\n",
    "cv2.destroyAllWindows()"
   ]
  },
  {
   "cell_type": "code",
   "execution_count": null,
   "id": "afraid-consortium",
   "metadata": {},
   "outputs": [],
   "source": []
  }
 ],
 "metadata": {
  "kernelspec": {
   "display_name": "Python 3",
   "language": "python",
   "name": "python3"
  },
  "language_info": {
   "codemirror_mode": {
    "name": "ipython",
    "version": 3
   },
   "file_extension": ".py",
   "mimetype": "text/x-python",
   "name": "python",
   "nbconvert_exporter": "python",
   "pygments_lexer": "ipython3",
   "version": "3.8.5"
  }
 },
 "nbformat": 4,
 "nbformat_minor": 5
}
